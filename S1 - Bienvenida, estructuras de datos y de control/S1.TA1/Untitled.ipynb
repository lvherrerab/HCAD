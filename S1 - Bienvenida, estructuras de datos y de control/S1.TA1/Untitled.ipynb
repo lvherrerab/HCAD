{
 "cells": [
  {
   "cell_type": "code",
   "execution_count": 1,
   "id": "a626dac9-51b0-43a4-b8ba-2161068a27b2",
   "metadata": {},
   "outputs": [
    {
     "data": {
      "text/plain": [
       "True"
      ]
     },
     "execution_count": 1,
     "metadata": {},
     "output_type": "execute_result"
    }
   ],
   "source": [
    "1 == 1"
   ]
  },
  {
   "cell_type": "code",
   "execution_count": 2,
   "id": "5760ccf7-c586-4cec-9ad1-60f9412cddd2",
   "metadata": {},
   "outputs": [
    {
     "data": {
      "text/plain": [
       "False"
      ]
     },
     "execution_count": 2,
     "metadata": {},
     "output_type": "execute_result"
    }
   ],
   "source": [
    "2 == \"2\""
   ]
  },
  {
   "cell_type": "code",
   "execution_count": 3,
   "id": "9772f9c7-f01a-4633-8bcb-a05de182f067",
   "metadata": {},
   "outputs": [
    {
     "data": {
      "text/plain": [
       "False"
      ]
     },
     "execution_count": 3,
     "metadata": {},
     "output_type": "execute_result"
    }
   ],
   "source": [
    "not 1 == 1"
   ]
  },
  {
   "cell_type": "code",
   "execution_count": 4,
   "id": "33fbbc6a-0ed1-4e3d-b27d-5145e8216b9a",
   "metadata": {},
   "outputs": [
    {
     "name": "stdout",
     "output_type": "stream",
     "text": [
      "2\n",
      "4\n",
      "6\n",
      "8\n"
     ]
    }
   ],
   "source": [
    "for i in range(2,9,2):\n",
    "    print(i)"
   ]
  },
  {
   "cell_type": "code",
   "execution_count": 5,
   "id": "33285e1f-6412-4f0f-8f4e-f3b5cba05b4c",
   "metadata": {},
   "outputs": [
    {
     "name": "stdout",
     "output_type": "stream",
     "text": [
      "Japon\n",
      "China\n",
      "España\n",
      "Estados Unidos\n",
      "Indonesia\n"
     ]
    }
   ],
   "source": [
    "\n",
    "paises = ['Japon', 'China', 'España', 'Estados Unidos', 'Indonesia']\n",
    "for indice in range(len(paises)):\n",
    "    print (paises[indice])"
   ]
  },
  {
   "cell_type": "code",
   "execution_count": 6,
   "id": "66563b40-06f5-4fc5-8a06-3d47506b9d83",
   "metadata": {},
   "outputs": [
    {
     "name": "stdout",
     "output_type": "stream",
     "text": [
      "Camilo: 3129543435\n",
      "Diego: 2045834458\n"
     ]
    }
   ],
   "source": [
    "directorio = {\"Rocio\" : [\"Carpintero\", \"rocio@gmail.com\", 3158534775], \n",
    "              \"Camilo\" : [\"Cerrajero\", \"camilo@yahoo.com\", 3129543435],\n",
    "              \"Ariadna\" : [\"Plomero\", \"ariadna@outlook.com\", 2593238695],\n",
    "              \"Diego\" : [\"Cerrajero\", \"diego@gmail.com\", 2045834458],\n",
    "              \"Juan Felipe\": [\"Electricista\", \"juanfelipe@yahoo.com\", 1423854033]}\n",
    "\n",
    "for contacto,info in directorio.items():\n",
    "    profesion = info[0]\n",
    "    \n",
    "    if profesion == \"Cerrajero\":\n",
    "        print(contacto + \": \" + str(info[2]))"
   ]
  },
  {
   "cell_type": "code",
   "execution_count": null,
   "id": "551d517d-9afb-4bfd-b2a3-f315c47bea0e",
   "metadata": {},
   "outputs": [],
   "source": []
  }
 ],
 "metadata": {
  "kernelspec": {
   "display_name": "Python 3",
   "language": "python",
   "name": "python3"
  },
  "language_info": {
   "codemirror_mode": {
    "name": "ipython",
    "version": 3
   },
   "file_extension": ".py",
   "mimetype": "text/x-python",
   "name": "python",
   "nbconvert_exporter": "python",
   "pygments_lexer": "ipython3",
   "version": "3.8.8"
  }
 },
 "nbformat": 4,
 "nbformat_minor": 5
}
