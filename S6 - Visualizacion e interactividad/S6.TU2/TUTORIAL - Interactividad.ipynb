{
 "cells": [
  {
   "cell_type": "markdown",
   "metadata": {},
   "source": [
    "<img src=\"./Archivos/miad4.png\" width=800x>\n",
    " \n",
    "# Interactividad utilizando `panel`\n",
    "\n",
    "`panel` es una librería de Python que nos permite crear aplicaciones web interactivas y tableros de control personalizados mediante la conexión de controles definidos por el usuario con gráficos, imágenes, tablas o texto.\n",
    "\n",
    "En este tutorial establecemos nociones fundamentales sobre el uso de la libería `panel` para integrarla en procesos de visualización de datos."
   ]
  },
  {
   "cell_type": "markdown",
   "metadata": {},
   "source": [
    "## Requisitos\n",
    "\n",
    "Para desarrollar este tutorial necesitarás:\n",
    "* Implementar estructuras de control.\n",
    "* Utilizar las librerías `pandas` y `plotly`."
   ]
  },
  {
   "cell_type": "markdown",
   "metadata": {},
   "source": [
    "## Objetivos\n",
    "\n",
    "Al final de este tutorial podrás:\n",
    "\n",
    "**1.** Definir los componentes necesarios para crear un tablero de control. <br> \n",
    "**2.** Personalizar tableros de control con gráficos y controles para generar distintas visualizaciones interactivas."
   ]
  },
  {
   "cell_type": "markdown",
   "metadata": {},
   "source": [
    "## 1. Librería `panel`"
   ]
  },
  {
   "cell_type": "markdown",
   "metadata": {},
   "source": [
    "### 1.1. Componentes necesarios\n",
    "Para comenzar, debemos importar las librerías necesarias para crear tableros de control (*dashboards*). Te recomendamos importar la librería `panel` utilizando el nombre `pn` (su alias más frecuentemente usado), como se muestra a continuación."
   ]
  },
  {
   "cell_type": "code",
   "execution_count": null,
   "metadata": {},
   "outputs": [],
   "source": [
    "import panel as pn\n",
    "import pandas as pd\n",
    "import plotly.graph_objects as go"
   ]
  },
  {
   "cell_type": "markdown",
   "metadata": {},
   "source": [
    "Ahora, declaramos la extensión de `plotly` en `panel`."
   ]
  },
  {
   "cell_type": "code",
   "execution_count": null,
   "metadata": {
    "scrolled": true
   },
   "outputs": [],
   "source": [
    "pn.extension('plotly')"
   ]
  },
  {
   "cell_type": "markdown",
   "metadata": {},
   "source": [
    "Luego, importamos la base de datos de los viajes en Citi Bike dentro de Nueva York durante algunos días del mes de enero de 2021 y realizamos una breve exploración de esta."
   ]
  },
  {
   "cell_type": "code",
   "execution_count": null,
   "metadata": {
    "scrolled": false
   },
   "outputs": [],
   "source": [
    "datos = pd.read_csv('Archivos/202101-citibike-tripdata.csv')\n",
    "datos = pd.DataFrame(datos)\n",
    "datos.head()"
   ]
  },
  {
   "cell_type": "markdown",
   "metadata": {},
   "source": [
    "Las variables que utlizaremos se encuentran en la siguiente tabla:"
   ]
  },
  {
   "cell_type": "markdown",
   "metadata": {},
   "source": [
    "| <center>Variable<center> | <center>Descripción<center> | \n",
    "| :--- | :--- | \n",
    "| `start station name` | Estación de inicio del viaje |\n",
    "| `end station name` | Estación de llegada del viaje |\n",
    "| `bikeid` | Indentificador de la bicicleta |\n",
    "\n"
   ]
  },
  {
   "cell_type": "markdown",
   "metadata": {},
   "source": [
    "A continuación, definimos los componentes del tablero de control. Primero, agregamos un título."
   ]
  },
  {
   "cell_type": "code",
   "execution_count": null,
   "metadata": {},
   "outputs": [],
   "source": [
    "titulo = '# Tablero de control Citi Bike'"
   ]
  },
  {
   "cell_type": "markdown",
   "metadata": {},
   "source": [
    "Segundo, creamos una lista desplegable con las estaciones de salida."
   ]
  },
  {
   "cell_type": "code",
   "execution_count": null,
   "metadata": {},
   "outputs": [],
   "source": [
    "seleccion = pn.widgets.Select(name='Estación de salida', options= datos['start station name'].unique().tolist())"
   ]
  },
  {
   "cell_type": "markdown",
   "metadata": {},
   "source": [
    "### 1.2. Personalización\n",
    "A continuación, agregamos funcionalidad al tablero de control. "
   ]
  },
  {
   "cell_type": "code",
   "execution_count": null,
   "metadata": {},
   "outputs": [],
   "source": [
    "# Le decimos a panel que nuestro gráfico depende de cambios en el párametro seleccion.\n",
    "@pn.depends(seleccion.param.value)\n",
    "\n",
    "# Definimos la función que se encarga de la interactividad del tablero de control.\n",
    "def funcion_interactiva(seleccion): \n",
    "\n",
    "    # Cargamos los datos.\n",
    "    df = datos \n",
    "    # Creamos un filtro de datos que utiliza valores de la lista desplegable.\n",
    "    filtro = (df['start station name'] == seleccion) \n",
    "    # Filtramos el DataFrame.\n",
    "    df = df.loc[filtro]\n",
    "    # Agrupamos los datos por estación de llegada para poder contrarlos.\n",
    "    df=df.groupby('end station name').count().reset_index()\n",
    "    # Ordenamos los datos de mayor a menor.\n",
    "    df.sort_values(by=['bikeid'], inplace=True, ascending=False)\n",
    "    \n",
    "    # Definimos y retornamos la figura.\n",
    "    fig = go.Figure(go.Bar(\n",
    "                            x=df['bikeid'],\n",
    "                            y=df[\"end station name\"],\n",
    "                            text=df['bikeid'],\n",
    "                            textposition='outside',                                # Posición de la etiqueta de datos. En este caso a la derecha.\n",
    "                            texttemplate='%{text}',                                # Formato de texto.\n",
    "                            marker_color='rgb(26, 118, 255)',                      # Color de las barras.\n",
    "                            orientation='h'                                        # Orientación de las barras. En este caso horizontal.\n",
    "                          )\n",
    "                   )\n",
    "    \n",
    "                    \n",
    "    fig.update_layout(\n",
    "                        barmode='stack',                                           # Tipo de barras. En este caso apiliadas.\n",
    "                        yaxis_title=\"Estación de llegada\",\n",
    "                        xaxis_title=\"Número de viajes\",\n",
    "                        title= 'Rutas populares saliendo de '+ str(seleccion),\n",
    "                        xaxis=dict(showgrid=False),                                # Ocultamos la cuadrícula de eje x.\n",
    "                        yaxis=dict(showgrid=False),                                # Ocultamos la cuadrícula de eje y.\n",
    "                        plot_bgcolor='white',                                      # Modificamos el color del fondo del gráfico.\n",
    "                        showlegend=False,                                          # Ocultamos la leyenda.\n",
    "                        yaxis_range=[9.5, -.5]                                     # Mostramos los 10 primeros datos.\n",
    "                     )\n",
    "    \n",
    "    return fig"
   ]
  },
  {
   "cell_type": "markdown",
   "metadata": {},
   "source": [
    "Declaramos el tablero de control."
   ]
  },
  {
   "cell_type": "code",
   "execution_count": null,
   "metadata": {},
   "outputs": [],
   "source": [
    "tablero_control = pn.Row(pn.Column(titulo, seleccion), funcion_interactiva)"
   ]
  },
  {
   "cell_type": "markdown",
   "metadata": {},
   "source": [
    "Finalmente, mostramos el tablero de control."
   ]
  },
  {
   "cell_type": "code",
   "execution_count": null,
   "metadata": {
    "scrolled": false
   },
   "outputs": [],
   "source": [
    "tablero_control.servable()"
   ]
  },
  {
   "cell_type": "markdown",
   "metadata": {},
   "source": [
    "Ahora, mostramos el tablero de control en otra ventana del navegador. Esto lo podemos hacer de las siguientes dos maneras:"
   ]
  },
  {
   "cell_type": "code",
   "execution_count": null,
   "metadata": {
    "scrolled": false
   },
   "outputs": [],
   "source": [
    "tablero_control.show()"
   ]
  },
  {
   "cell_type": "code",
   "execution_count": null,
   "metadata": {
    "scrolled": false
   },
   "outputs": [],
   "source": [
    "pn.serve(tablero_control)"
   ]
  },
  {
   "cell_type": "markdown",
   "metadata": {},
   "source": [
    "## Referencias\n",
    " \n",
    "Panel (2021). A high-level app and dashboarding solution for Python. Recuperado el 11 de febrero de 2021 de: https://panel.holoviz.org/\n",
    "\n",
    "Citi Bike (2021). System Data. Recuperado el 11 de febrero de 2021 de: https://www.citibikenyc.com/system-data"
   ]
  },
  {
   "cell_type": "markdown",
   "metadata": {},
   "source": [
    "## Créditos\n",
    "\n",
    "**Autor(es):** Juan David Reyes Jaimes, Diego Alejandro Cely Gómez\n",
    "\n",
    "**Fecha última actualización:**: 06/08/2021"
   ]
  }
 ],
 "metadata": {
  "kernelspec": {
   "display_name": "Python 3",
   "language": "python",
   "name": "python3"
  },
  "language_info": {
   "codemirror_mode": {
    "name": "ipython",
    "version": 3
   },
   "file_extension": ".py",
   "mimetype": "text/x-python",
   "name": "python",
   "nbconvert_exporter": "python",
   "pygments_lexer": "ipython3",
   "version": "3.7.10"
  }
 },
 "nbformat": 4,
 "nbformat_minor": 2
}
